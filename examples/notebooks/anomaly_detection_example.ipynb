{
 "cells": [
  {
   "cell_type": "markdown",
   "metadata": {},
   "source": [
    "# Anomaly Detection with Ember ML\n",
    "\n",
    "This notebook demonstrates how to perform anomaly detection using components from the Ember ML framework. We will use a simple dataset and a Restricted Boltzmann Machine (RBM) as an example, showcasing Ember ML's backend-agnostic capabilities."
   ]
  },
  {
   "cell_type": "code",
   "execution_count": null,
   "metadata": {},
   "outputs": [],
   "source": [
    "# Import necessary libraries\n",
    "import numpy as np\n",
    "import matplotlib.pyplot as plt\n",
    "\n",
    "# Import Ember ML components\n",
    "from ember_ml.ops import set_backend\n",
    "from ember_ml.nn import tensor\n",
    "from ember_ml import ops\n",
    "from ember_ml.models.rbm import RestrictedBoltzmannMachine, train_rbm\n",
    "\n",
    "# Set a backend (choose 'numpy', 'torch', or 'mlx')\n",
    "# You can change this to see how the code runs on different backends\n",
    "set_backend('numpy')\n",
    "print(f\"Using backend: {ops.get_backend()}\")"
   ]
  },
  {
   "cell_type": "markdown",
   "metadata": {},
   "source": [
    "## 1. Generate or Load Data\n",
    "\n",
    "For this example, we'll generate a simple synthetic dataset with some anomalies. In a real-world scenario, you would load your data here."
   ]
  },
  {
   "cell_type": "code",
   "execution_count": null,
   "metadata": {},
   "outputs": [],
   "source": [
    "# Generate normal data (e.g., from a normal distribution)\n",
    "np.random.seed(42) # for reproducibility\n",
    "normal_data = np.random.randn(100, 2) * 0.5 + tensor.convert_to_tensor([1, 1])\n",
    "\n",
    "# Generate anomaly data (e.g., data points far from the normal distribution)\n",
    "anomaly_data = np.random.randn(10, 2) * 2.0 + tensor.convert_to_tensoronvert_to_tensoronvert_to_tensoronvert_to_tensoronvert_to_tensoronvert_to_tensor([-2, -2])\n",
    "\n",
    "# Combine data\n",
    "data = tensor.vstack((normal_data, anomaly_data))\n",
    "\n",
    "# Convert to EmberTensor\n",
    "data_tensor = tensor.convert_to_tensor(data, dtype=tensor.float32, device='cpu')\n",
    "\n",
    "print(f\"Data shape: {tensor.shape(data_tensor)}\")"
   ]
  },
  {
   "cell_type": "markdown",
   "metadata": {},
   "source": [
    "## 2. Train an Anomaly Detection Model (RBM Example)\n",
    "\n",
    "We'll train a Restricted Boltzmann Machine (RBM) on the *normal* data. RBMs can learn the distribution of normal data, and data points that deviate significantly from this learned distribution can be considered anomalies."
   ]
  },
  {
   "cell_type": "code",
   "execution_count": null,
   "metadata": {},
   "outputs": [],
   "source": [
    "# Define RBM parameters\n",
    "n_visible = tensor.shape(data_tensor)[1] # Number of features\n",
    "n_hidden = 10 # Number of hidden units\n",
    "\n",
    "# Create and train the RBM on normal data\n",
    "rbm = RestrictedBoltzmannMachine(visible_size=n_visible, hidden_size=n_hidden, device='cpu')\n",
    "\n",
    "# Train the RBM (using only normal data for training)\n",
    "# Note: RBM training can be sensitive to hyperparameters and data scaling.\n",
    "# For this simple example, we use basic settings.\n",
    "print(\"Training RBM...\")\n",
    "# Create a simple data generator that yields the entire normal data as a single batch\n",
    "def data_generator():\n",
    "    # Convert normal data to tensor once\n",
    "    normal_data_tensor = tensor.convert_to_tensor(normal_data, dtype=tensor.float32)\n",
    "    # Yield the entire dataset as a single batch\n",
    "    yield normal_data_tensor\n",
    "\n",
    "# Train the RBM using the data generator\n",
    "train_rbm(rbm, data_generator(), epochs=100)\n",
    "print(\"RBM training complete.\")"
   ]
  },
  {
   "cell_type": "markdown",
   "metadata": {},
   "source": [
    "## 3. Detect Anomalies\n",
    "\n",
    "Now, we'll use the trained RBM to compute an 'anomaly score' for each data point (both normal and anomaly). Data points with high anomaly scores are likely anomalies."
   ]
  },
  {
   "cell_type": "code",
   "execution_count": null,
   "metadata": {},
   "outputs": [],
   "source": [
    "# Compute anomaly scores for all data points\n",
    "anomaly_scores = rbm.anomaly_score(data_tensor)\n",
    "\n",
    "# Convert scores to NumPy for easier plotting/analysis\n",
    "anomaly_scores_np = tensor.to_numpy(anomaly_scores)\n",
    "\n",
    "print(f\"Anomaly scores shape: {anomaly_scores_tensor.shape}\")"
   ]
  },
  {
   "cell_type": "markdown",
   "metadata": {},
   "source": [
    "## 4. Visualize Results\n",
    "\n",
    "We can visualize the data points and their anomaly scores to see how well the RBM distinguishes anomalies."
   ]
  },
  {
   "cell_type": "code",
   "execution_count": null,
   "metadata": {},
   "outputs": [],
   "source": [
    "# Plot the data points, colored by their anomaly score\n",
    "plt.figure(figsize=(8, 6))\n",
    "scatter = plt.scatter(data[:, 0], data[:, 1], c=anomaly_scores_np, cmap='viridis')\n",
    "plt.colorbar(scatter, label='Anomaly Score')\n",
    "plt.title('Anomaly Detection using RBM')\n",
    "plt.xlabel('Feature 1')\n",
    "plt.ylabel('Feature 2')\n",
    "plt.grid(True)\n",
    "plt.show()"
   ]
  },
  {
   "cell_type": "markdown",
   "metadata": {},
   "source": [
    "## 5. Set a Threshold and Identify Anomalies\n",
    "\n",
    "Based on the anomaly scores, we can set a threshold to classify data points as either normal or anomalous."
   ]
  },
  {
   "cell_type": "code",
   "execution_count": null,
   "metadata": {},
   "outputs": [],
   "source": [
    "# Choose a threshold (this often requires tuning based on validation data)\n",
    "threshold = stats.percentile(anomaly_scores_np, 90) # Example: top 10% as anomalies\n",
    "\n",
    "print(f\"Anomaly threshold: {threshold:.4f}\")\n",
    "\n",
    "# Identify anomalies based on the threshold\n",
    "is_anomaly = rbm.is_anomaly(data_tensor, threshold=tensor.convert_to_tensor(threshold, dtype=tensor.float32))\n",
    "\n",
    "# Convert boolean result to NumPy for printing\n",
    "is_anomaly_np = tensor.to_numpy(is_anomaly)\n",
    "\n",
    "print(\"\\nIdentified Anomalies (True if anomalous):\")\n",
    "print(is_anomaly_np)"
   ]
  },
  {
   "cell_type": "markdown",
   "metadata": {},
   "source": [
    "## Conclusion\n",
    "\n",
    "This notebook demonstrated a basic anomaly detection workflow using Ember ML and an RBM. The anomaly scores clearly differentiate the synthetic anomalies from the normal data points. You can adapt this approach using different models and feature extraction techniques available in Ember ML for your specific anomaly detection tasks."
   ]
  }
 ],
 "metadata": {
  "kernelspec": {
   "display_name": "base",
   "language": "python",
   "name": "python3"
  },
  "language_info": {
   "codemirror_mode": {
    "name": "ipython",
    "version": 3
   },
   "file_extension": ".py",
   "mimetype": "text/x-python",
   "name": "python",
   "nbconvert_exporter": "python",
   "pygments_lexer": "ipython3",
   "version": "3.12.2"
  }
 },
 "nbformat": 4,
 "nbformat_minor": 4
}
