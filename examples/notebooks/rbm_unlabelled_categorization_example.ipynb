{
 "cells": [
  {
   "cell_type": "markdown",
   "metadata": {},
   "source": [
    "# RBM for Unlabelled Categorization with Ember ML\n",
    "\n",
    "This notebook demonstrates how a Restricted Boltzmann Machine (RBM) can be used for unlabelled categorization or clustering. By training an RBM on unlabelled data, we can leverage the learned hidden layer activations or reconstruction error to group similar data points. This showcases RBMs as a form of unsupervised learning within the Ember ML framework."
   ]
  },
  {
   "cell_type": "code",
   "execution_count": null,
   "metadata": {},
   "outputs": [],
   "source": [
    "# Import necessary libraries\n",
    "import numpy as np\n",
    "import matplotlib.pyplot as plt\n",
    "from sklearn.datasets import make_blobs # For generating synthetic clustering data\n",
    "from sklearn.cluster import KMeans # For simple clustering demonstration\n",
    "\n",
    "# Import Ember ML components\n",
    "from ember_ml.ops import set_backend\n",
    "from ember_ml.nn import tensor\n",
    "from ember_ml import ops\n",
    "from ember_ml.models.rbm import RestrictedBoltzmannMachine\n",
    "\n",
    "# Set a backend (choose 'numpy', 'torch', or 'mlx')\n",
    "# You can change this to see how the code runs on different backends\n",
    "set_backend('numpy')\n",
    "print(f\"Using backend: {ops.get_backend()}\")"
   ]
  },
  {
   "cell_type": "markdown",
   "metadata": {},
   "source": [
    "## 1. Generate Unlabelled Data\n",
    "\n",
    "We'll generate a synthetic dataset with distinct clusters but without providing the cluster labels. The goal is to see if the RBM can help in identifying these underlying categories."
   ]
  },
  {
   "cell_type": "code",
   "execution_count": null,
   "metadata": {},
   "outputs": [],
   "source": [
    "# Generate synthetic data with 3 clusters\n",
    "n_samples = 300\n",
    "n_features = 10\n",
    "n_clusters = 3\n",
    "X, _ = make_blobs(n_samples=n_samples, n_features=n_features, centers=n_clusters, random_state=42)\n",
    "\n",
    "# Scale data to be between 0 and 1 (often helpful for RBMs)\n",
    "X_scaled = (X - X.min()) / (X.max() - X.min())\n",
    "\n",
    "# Convert to EmberTensor\n",
    "data_tensor = tensor.convert_to_tensor(X_scaled, dtype=tensor.float32)\n",
    "\n",
    "print(f\"Data shape: {tensor.shape(data_tensor)}\")"
   ]
  },
  {
   "cell_type": "markdown",
   "metadata": {},
   "source": [
    "## 2. Train an RBM on Unlabelled Data\n",
    "\n",
    "We train an RBM in an unsupervised manner on the generated data. The RBM learns a representation of the data in its hidden layer."
   ]
  },
  {
   "cell_type": "code",
   "execution_count": null,
   "metadata": {},
   "outputs": [],
   "source": [
    "# Define RBM parameters\n",
    "n_visible = tensor.shape(data_tensor)[1] # Number of features\n",
    "n_hidden = 5 # Number of hidden units (can be tuned)\n",
    "\n",
    "# Create and train the RBM\n",
    "rbm = RestrictedBoltzmannMachine(n_visible=n_visible, n_hidden=n_hidden)\n",
    "\n",
    "print(\"Training RBM...\")\n",
    "# Train the RBM on the unlabelled data\n",
    "# Note: RBM training can be sensitive to hyperparameters and data scaling.\n",
    "# For this simple example, we use basic settings.\n",
    "rbm.train(data_tensor, epochs=200, learning_rate=0.1)\n",
    "print(\"RBM training complete.\")"
   ]
  },
  {
   "cell_type": "markdown",
   "metadata": {},
   "source": [
    "## 3. Use RBM Features for Categorization\n",
    "\n",
    "We can use the activations of the RBM's hidden layer as features for clustering. Data points that activate the hidden units similarly are likely to belong to the same category."
   ]
  },
  {
   "cell_type": "code",
   "execution_count": null,
   "metadata": {},
   "outputs": [],
   "source": [
    "# Get the hidden layer activations (features) from the trained RBM\n",
    "hidden_features = rbm.transform(data_tensor)\n",
    "\n",
    "# Convert features to NumPy for clustering (using scikit-learn for demonstration)\n",
    "hidden_features_np = tensor.to_numpy(hidden_features)\n",
    "\n",
    "print(f\"Hidden features shape: {hidden_features_tensor.shape}\")\n",
    "\n",
    "# Apply KMeans clustering on the hidden features\n",
    "kmeans = KMeans(n_clusters=n_clusters, random_state=42, n_init=10) # n_init to suppress warning\n",
    "cluster_labels = kmeans.fit_predict(hidden_features_np)\n",
    "\n",
    "print(\"\\nSample cluster labels:\")\n",
    "print(cluster_labels[:20])"
   ]
  },
  {
   "cell_type": "markdown",
   "metadata": {},
   "source": [
    "## 4. Visualize Results\n",
    "\n",
    "We can visualize the data points in their original 2D space (if applicable) or using dimensionality reduction, colored by the cluster labels assigned based on the RBM features."
   ]
  },
  {
   "cell_type": "code",
   "execution_count": null,
   "metadata": {},
   "outputs": [],
   "source": [
    "# Since our original data is 2D, we can plot it directly\n",
    "# If data was higher dimensional, you might use PCA or t-SNE for visualization\n",
    "plt.figure(figsize=(8, 6))\n",
    "scatter = plt.scatter(X[:, 0], X[:, 1], c=cluster_labels, cmap='viridis')\n",
    "plt.title('Unlabelled Categorization using RBM Features and KMeans')\n",
    "plt.xlabel('Feature 1')\n",
    "plt.ylabel('Feature 2')\n",
    "plt.colorbar(scatter, label='Cluster Label')\n",
    "plt.grid(True)\n",
    "plt.show()"
   ]
  },
  {
   "cell_type": "markdown",
   "metadata": {},
   "source": [
    "## Conclusion\n",
    "\n",
    "This notebook demonstrated how an RBM can be used in an unsupervised manner for categorization. By training the RBM on unlabelled data and using its learned hidden representations as features for clustering, we were able to group the data points according to their underlying structure. This highlights the RBM's capability as a feature learning model within Ember ML for unsupervised tasks."
   ]
  }
 ],
 "metadata": {
  "kernelspec": {
   "display_name": "base",
   "language": "python",
   "name": "python3"
  },
  "language_info": {
   "codemirror_mode": {
    "name": "ipython",
    "version": 3
   },
   "file_extension": ".py",
   "mimetype": "text/x-python",
   "name": "python",
   "nbconvert_exporter": "python",
   "pygments_lexer": "ipython3",
   "version": "3.12.2"
  }
 },
 "nbformat": 4,
 "nbformat_minor": 4
}
