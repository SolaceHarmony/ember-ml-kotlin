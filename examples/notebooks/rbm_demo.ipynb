{
 "cells": [
  {
   "cell_type": "markdown",
   "metadata": {},
   "source": [
    "# Restricted Boltzmann Machine (RBM) Demo\n",
    "\n",
    "This notebook demonstrates how to train a Restricted Boltzmann Machine (RBM) using the Ember ML framework, and how to visualize its learning process and generative capabilities using the `RBMVisualizer`.\n",
    "\n",
    "All visualizations are backend-agnostic and leverage the Ember ML abstraction layer for maximum compatibility and reproducibility."
   ]
  },
  {
   "cell_type": "code",
   "execution_count": null,
   "metadata": {},
   "outputs": [],
   "source": [
    "# Install dependencies if needed (uncomment if running outside managed environment)\n",
    "# !pip install matplotlib pandas"
   ]
  },
  {
   "cell_type": "markdown",
   "metadata": {},
   "source": [
    "## 1. Imports and Setup"
   ]
  },
  {
   "cell_type": "code",
   "execution_count": null,
   "metadata": {},
   "outputs": [],
   "source": [
    "import numpy as np\n",
    "from ember_ml.models.rbm.rbm_module import RBMModule\n",
    "from ember_ml.visualization.rbm_visualizer import RBMVisualizer\n",
    "from ember_ml.nn import tensor\n",
    "import matplotlib.pyplot as plt"
   ]
  },
  {
   "cell_type": "markdown",
   "metadata": {},
   "source": [
    "## 2. Generate Synthetic Binary Data\n",
    "\n",
    "For demonstration, we'll use a simple synthetic dataset of binary vectors."
   ]
  },
  {
   "cell_type": "code",
   "execution_count": null,
   "metadata": {},
   "outputs": [],
   "source": [
    "# Generate synthetic binary data (e.g., 1000 samples, 16 features)\n",
    "np.random.seed(42)\n",
    "n_samples = 1000\n",
    "n_features = 16\n",
    "data = np.random.binomial(1, 0.5, size=(n_samples, n_features)).astype(tensor.float32)\n",
    "print('Data shape:', data.shape)"
   ]
  },
  {
   "cell_type": "markdown",
   "metadata": {},
   "source": [
    "## 3. Initialize and Train the RBM"
   ]
  },
  {
   "cell_type": "code",
   "execution_count": null,
   "metadata": {},
   "outputs": [],
   "source": [
    "# Initialize RBM\n",
    "rbm = RBMModule(n_visible=n_features, n_hidden=8, learning_rate=0.1, n_epochs=30, batch_size=32, verbose=True)\n",
    "\n",
    "# Convert data to EmberTensor\n",
    "data_tensor = tensor.convert_to_tensor(data, dtype=tensor.float32)\n",
    "\n",
    "# Train RBM\n",
    "rbm.fit(data_tensor)"
   ]
  },
  {
   "cell_type": "markdown",
   "metadata": {},
   "source": [
    "## 4. Visualize Training Progress"
   ]
  },
  {
   "cell_type": "code",
   "execution_count": null,
   "metadata": {},
   "outputs": [],
   "source": [
    "# Initialize visualizer\n",
    "visualizer = RBMVisualizer(output_dir='outputs', plots_dir='plots', animations_dir='animations')\n",
    "\n",
    "# Plot training curve\n",
    "visualizer.plot_training_curve(rbm, title='RBM Training Curve', save=False, show=True)"
   ]
  },
  {
   "cell_type": "markdown",
   "metadata": {},
   "source": [
    "## 5. Visualize Weight Evolution (Animation)"
   ]
  },
  {
   "cell_type": "code",
   "execution_count": null,
   "metadata": {},
   "outputs": [],
   "source": [
    "# Animate weight evolution (displays inline, does not save mp4 by default)\n",
    "ani = visualizer.animate_weight_evolution(rbm, save=False, show=True)"
   ]
  },
  {
   "cell_type": "markdown",
   "metadata": {},
   "source": [
    "## 6. Visualize Reconstructions"
   ]
  },
  {
   "cell_type": "code",
   "execution_count": null,
   "metadata": {},
   "outputs": [],
   "source": [
    "# Plot original and reconstructed samples\n",
    "visualizer.plot_reconstructions(rbm, data, n_samples=5, reshape=None, title='RBM Reconstructions', save=False, show=True)"
   ]
  },
  {
   "cell_type": "markdown",
   "metadata": {},
   "source": [
    "## 7. Visualize Dreaming (Generative Process)"
   ]
  },
  {
   "cell_type": "code",
   "execution_count": null,
   "metadata": {},
   "outputs": [],
   "source": [
    "# Animate RBM dreaming (generative process)\n",
    "ani = visualizer.animate_dreaming(rbm, n_steps=30, reshape=None, save=False, show=True)"
   ]
  },
  {
   "cell_type": "markdown",
   "metadata": {},
   "source": [
    "---\n",
    "This notebook demonstrates a fully backend-pure, visually appealing RBM demo using Ember ML. You can further customize the dataset, RBM parameters, and visualizations as needed."
   ]
  }
 ],
 "metadata": {
  "kernelspec": {
   "display_name": "base",
   "language": "python",
   "name": "python3"
  },
  "language_info": {
   "name": "python",
   "version": "3.12.2"
  }
 },
 "nbformat": 4,
 "nbformat_minor": 5
}
